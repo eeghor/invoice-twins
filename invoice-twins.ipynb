{
 "cells": [
  {
   "cell_type": "code",
   "execution_count": 1,
   "id": "bffb00cc-a2c2-4e6e-ae23-ee22a3bfeaa2",
   "metadata": {},
   "outputs": [],
   "source": [
    "import spacy"
   ]
  },
  {
   "cell_type": "code",
   "execution_count": 2,
   "id": "b22f53a9-cb44-4ed2-8e3e-e0ec32ecd292",
   "metadata": {},
   "outputs": [],
   "source": [
    "nlp = spacy.load(\"en_core_web_sm\")"
   ]
  },
  {
   "cell_type": "code",
   "execution_count": 3,
   "id": "d66dceb8-80fe-461b-ab92-109808e1df5e",
   "metadata": {},
   "outputs": [],
   "source": [
    "s2v = nlp.add_pipe(\"sense2vec\")"
   ]
  },
  {
   "cell_type": "code",
   "execution_count": 4,
   "id": "16e06dde-dd83-4c61-b36a-c92d71089469",
   "metadata": {},
   "outputs": [
    {
     "data": {
      "text/plain": [
       "<sense2vec.component.Sense2VecComponent at 0x1350d3df0>"
      ]
     },
     "execution_count": 4,
     "metadata": {},
     "output_type": "execute_result"
    }
   ],
   "source": [
    "s2v.from_disk(\"data/s2v_old/\")"
   ]
  },
  {
   "cell_type": "code",
   "execution_count": 8,
   "id": "1fa6e403-186d-4df0-b9ca-495c2cf41026",
   "metadata": {},
   "outputs": [
    {
     "name": "stdout",
     "output_type": "stream",
     "text": [
      "consulting\n",
      "[(('consultancy', 'NOUN'), 0.9002), (('management consulting', 'NOUN'), 0.9001), (('business development', 'NOUN'), 0.8917)]\n",
      "fee\n",
      "[(('fees', 'NOUN'), 0.9173), (('service fee', 'NOUN'), 0.8985), (('processing fee', 'NOUN'), 0.8978)]\n"
     ]
    }
   ],
   "source": [
    "doc = nlp(\"consulting fee\")\n",
    "\n",
    "for w in doc:\n",
    "    try:\n",
    "        print(w)\n",
    "        print(w._.s2v_most_similar(3))\n",
    "    except:\n",
    "        pass"
   ]
  }
 ],
 "metadata": {
  "kernelspec": {
   "display_name": "Python 3 (ipykernel)",
   "language": "python",
   "name": "python3"
  },
  "language_info": {
   "codemirror_mode": {
    "name": "ipython",
    "version": 3
   },
   "file_extension": ".py",
   "mimetype": "text/x-python",
   "name": "python",
   "nbconvert_exporter": "python",
   "pygments_lexer": "ipython3",
   "version": "3.9.9"
  }
 },
 "nbformat": 4,
 "nbformat_minor": 5
}
